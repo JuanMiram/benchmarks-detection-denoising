{
 "cells": [
  {
   "cell_type": "markdown",
   "metadata": {},
   "source": [
    "# A benchmark for time-frequency denoising/ detecting.\n",
    "\n",
    "## What is this benchmark?\n",
    "A benchmark is a comparison between different methods when running an standarized test. The goal of this benchmark is to compare different methods for denoising / detecting a signal based on the properties of the time-frequency plane. This particular benchmark has been created for evaluating the performance of techniques based on the zeros of the spectrogram and to contrast them with more traditional methods, like those based on the ridges in the time-frequency plane.\n",
    "\n",
    "With the purpose of making this benchmark more useful, the methods to compare, the tests, and the performance evaluation functions where concived as different modules, so that one can test newer methods in the future without modifing the tests. The only restrictions this pose is that the methods to test should satisfy some requirements regarding the shape of their input an output parameters. The tests, comprising the signals used and the performance evaluation functions, are encapsulated in the class `Benchmark`.\n",
    "\n",
    "In order to compare different methods with possibly different parameters, we need to set up a few things before running the benchmark. A `Benchmark` object receives some input parameters to configure the test:\n",
    "- `task`: This could be `'denoising'` or `'detecting'`. The first one compute the quality reconstruction factor (QRF) using the output of the method, whereas the second simply consist in detecting wheter a signal is present or not.\n",
    "- `N`: The length of the simulation, i.e. how many samples should the signals have.\n",
    "- `methods`: A dictionary of methods. Each entry of this dictionary corresponds to the function that implements each of the desired methods.\n",
    "- `parameters`: A dictionary of parameters. Each entry of this dictionary corresponds to an array of tuples to pass as input parameters to each method. In order to know which parameters should be passed to each methods, the keys of this dictionary should be the same as those corresponding to the individual methods in the corresponding dictionary.\n",
    "- `SNRin`: A list or tuple of values of SNR to test.\n",
    "- `repetitions`: The number of times the experiment should be repeated with different realizations of noise."
   ]
  },
  {
   "cell_type": "markdown",
   "metadata": {},
   "source": [
    "## A dummy test \n",
    "First let's define a dummy method for testing. Methods should receive an `M`x`N` array of noisy signals, where `M` is the number of signals, and `N` is the number of time samples. Additionally, it should receive a second parameter `params` to test different combinations of parameters of the method. The shape of the output depends on the task (denoising or detecting). So the firm of a method should be the following:\n",
    "\n",
    " `output = a_method(noisy_signals,params) `.\n",
    "\n",
    "If one set `task='denoising'`, the shape of `output` should be also `M`x`N`, i.e. the same shape as the input parameter `noisy_signals`, whereas if `task='detecting'`, the output should be boolean (`0` or `False` for no signal, and `1` or `True` otherwise).\n",
    "\n",
    "After this, we should create a dictionary of methods to pass the `Benchmark` object at the moment of instantiation."
   ]
  },
  {
   "cell_type": "code",
   "execution_count": 1,
   "metadata": {},
   "outputs": [],
   "source": [
    "import numpy as np\n",
    "from numpy import pi as pi\n",
    "import pandas as pd\n",
    "from benchmark_demo.Benchmark import Benchmark\n",
    "\n",
    "def a_method(noisy_signals, params):\n",
    "    # If additional input parameters are needed, they can be passed in a tuple using params and then parsed.\n",
    "    results = noisy_signals \n",
    "    return results\n",
    "\n",
    "# Create a dictionary of the methods to test.\n",
    "my_methods = {\n",
    "    'Method 1': a_method, \n",
    "    'Method 2': a_method\n",
    "    }"
   ]
  },
  {
   "cell_type": "markdown",
   "metadata": {},
   "source": [
    "Let us now create a dictionary of the parameters to pass to each method. The parameters should be given in a tuple of tuples, so that each internal tuple is passed as a single additional parameter to the method (this latter should implement how to parse the parameters from this tuple). *Remember that the keys of this dictionary should be the same as those of the methods dictionary*."
   ]
  },
  {
   "cell_type": "code",
   "execution_count": 2,
   "metadata": {},
   "outputs": [],
   "source": [
    "my_parameters = {\n",
    "    'Method 1': [[3, 4, True, 'all'],[2, 1, False, 'one']], # Each tuple is passed as a parameter that the method should parse internally.\n",
    "    'Method 2': [[3, 4, True, 'all'],[2, 1, False, 'one']]\n",
    "    }"
   ]
  },
  {
   "cell_type": "markdown",
   "metadata": {},
   "source": [
    "Now we are ready to instantiate a `Benchmark` object, run a test using the proposed methods and parameters. The benchmark constructor receives a name of a task (which defines the performance function for the test), a dictionary of the methods to test, the desired length of the signals used in the simulation, a dictionary of different parameters that should be passed to the methods, an array with different values of SNR to test, and the number of repetitions that should be used for each test."
   ]
  },
  {
   "cell_type": "code",
   "execution_count": 3,
   "metadata": {},
   "outputs": [
    {
     "name": "stdout",
     "output_type": "stream",
     "text": [
      "Running benchmark...\n",
      "The test has finished.\n"
     ]
    }
   ],
   "source": [
    "my_benchmark = Benchmark(task = 'denoising', methods = my_methods, N = 256, parameters = my_parameters, SNRin = [40,50], repetitions = 3)\n",
    "my_results = my_benchmark.runTest() # Run the test. my_results is a dictionary with the results for each of the variables of the simulation."
   ]
  },
  {
   "cell_type": "markdown",
   "metadata": {},
   "source": [
    "Now we have the results of the test in a nested dictionary called `my_results`. In order to get the results in a human-readable way using a DataFrame, and also for further analysis and reproducibility, we could use the method `getResults()`."
   ]
  },
  {
   "cell_type": "code",
   "execution_count": 4,
   "metadata": {},
   "outputs": [
    {
     "data": {
      "text/html": [
       "<div>\n",
       "<style scoped>\n",
       "    .dataframe tbody tr th:only-of-type {\n",
       "        vertical-align: middle;\n",
       "    }\n",
       "\n",
       "    .dataframe tbody tr th {\n",
       "        vertical-align: top;\n",
       "    }\n",
       "\n",
       "    .dataframe thead th {\n",
       "        text-align: right;\n",
       "    }\n",
       "</style>\n",
       "<table border=\"1\" class=\"dataframe\">\n",
       "  <thead>\n",
       "    <tr style=\"text-align: right;\">\n",
       "      <th></th>\n",
       "      <th>Method</th>\n",
       "      <th>Parameter</th>\n",
       "      <th>Signal_id</th>\n",
       "      <th>Repetition</th>\n",
       "      <th>40</th>\n",
       "      <th>50</th>\n",
       "    </tr>\n",
       "  </thead>\n",
       "  <tbody>\n",
       "    <tr>\n",
       "      <th>6</th>\n",
       "      <td>Method 1</td>\n",
       "      <td>Params0</td>\n",
       "      <td>cosChirp</td>\n",
       "      <td>0</td>\n",
       "      <td>40.000000</td>\n",
       "      <td>50.000000</td>\n",
       "    </tr>\n",
       "    <tr>\n",
       "      <th>7</th>\n",
       "      <td>Method 1</td>\n",
       "      <td>Params0</td>\n",
       "      <td>cosChirp</td>\n",
       "      <td>1</td>\n",
       "      <td>40.000000</td>\n",
       "      <td>50.000000</td>\n",
       "    </tr>\n",
       "    <tr>\n",
       "      <th>8</th>\n",
       "      <td>Method 1</td>\n",
       "      <td>Params0</td>\n",
       "      <td>cosChirp</td>\n",
       "      <td>2</td>\n",
       "      <td>40.000000</td>\n",
       "      <td>50.000000</td>\n",
       "    </tr>\n",
       "    <tr>\n",
       "      <th>12</th>\n",
       "      <td>Method 1</td>\n",
       "      <td>Params0</td>\n",
       "      <td>crossedLinearChirps</td>\n",
       "      <td>0</td>\n",
       "      <td>39.999997</td>\n",
       "      <td>49.999967</td>\n",
       "    </tr>\n",
       "    <tr>\n",
       "      <th>13</th>\n",
       "      <td>Method 1</td>\n",
       "      <td>Params0</td>\n",
       "      <td>crossedLinearChirps</td>\n",
       "      <td>1</td>\n",
       "      <td>39.999997</td>\n",
       "      <td>49.999967</td>\n",
       "    </tr>\n",
       "  </tbody>\n",
       "</table>\n",
       "</div>"
      ],
      "text/plain": [
       "      Method Parameter            Signal_id  Repetition         40         50\n",
       "6   Method 1   Params0             cosChirp           0  40.000000  50.000000\n",
       "7   Method 1   Params0             cosChirp           1  40.000000  50.000000\n",
       "8   Method 1   Params0             cosChirp           2  40.000000  50.000000\n",
       "12  Method 1   Params0  crossedLinearChirps           0  39.999997  49.999967\n",
       "13  Method 1   Params0  crossedLinearChirps           1  39.999997  49.999967"
      ]
     },
     "execution_count": 4,
     "metadata": {},
     "output_type": "execute_result"
    }
   ],
   "source": [
    "df = my_benchmark.getResults() # This formats the results on a DataFrame\n",
    "df.head()"
   ]
  },
  {
   "cell_type": "markdown",
   "metadata": {},
   "source": [
    "As we can see, the table show the results ordered by columns. The first column corresponds to the method identification, and the values are taken from the keys of the dictionary of methods. The second column enumerates the parameters used (more on this on the next section). The third column corresponds to the signal identification, using the signal identification values from the `SignalBank` class. The next column shows the number of repetition of the experiment. Finally, the remaining columns show the results obtained for the SNR values used for each experiment. Since `task = 'denoising'`, these values correspond to the QRF computed as `QRF = 10*np.log10(E(s)/E(s-sr))`, where `E(x)` is the energy of `x`, and `s` and `sr` are the noiseless signal and the reconstructed signal respectively."
   ]
  },
  {
   "cell_type": "markdown",
   "metadata": {},
   "source": [
    "## Passing different parameters to the methods.\n",
    "It is common that a method depends on certain input parameters (thresholds, multiplicative factors, etc). Therefore, it would be useful that the tests could also be repeated with different parameters, instead of creating different versions of one method. We can pass an array of parameters to our method provided it parses them internally. For instance, let's consider a function that depends on two thresholds `thr1` and `thr2`:"
   ]
  },
  {
   "cell_type": "code",
   "execution_count": 5,
   "metadata": {},
   "outputs": [],
   "source": [
    "def a_function(signal, thr1, thr2):\n",
    "    signal_out = signal\n",
    "    signal_out[np.where((thr2>signal) & (signal>thr1))] = 1\n",
    "    return signal_out"
   ]
  },
  {
   "cell_type": "markdown",
   "metadata": {},
   "source": [
    "Now lets create the method and the dictionary for our benchmark. Notice that the method function should parse the parameters in `params`. Then we can define the diferent combinations of parameters using the corresponding dictionary:"
   ]
  },
  {
   "cell_type": "code",
   "execution_count": 6,
   "metadata": {},
   "outputs": [
    {
     "name": "stdout",
     "output_type": "stream",
     "text": [
      "[[0.1, 4], [0.1, 5], [0.30000000000000004, 4], [0.30000000000000004, 5]]\n"
     ]
    }
   ],
   "source": [
    "def another_method(noisy_signals,params):\n",
    "    output_signals = np.zeros(noisy_signals.shape)\n",
    "    # The method should parse the parameters accordingly\n",
    "    thr1 = params[0]\n",
    "    thr2 = params[1]\n",
    "    output = [a_function(signal, thr1, thr2) for signal in noisy_signals]\n",
    "    output = np.array(output)\n",
    "    return output\n",
    "        \n",
    "\n",
    "# Create a dictionary of the methods to test.\n",
    "my_methods = {\n",
    "    'Method 1': another_method, \n",
    "    }\n",
    "\n",
    "# Create a dictionary of the different combinations of the thresholds to test:\n",
    "thr1 = np.arange(0.1,0.5,0.2) # Some values for the thresholds.\n",
    "thr2 = np.arange(4,6,1)\n",
    "my_parameters = {\n",
    "    'Method 1': [[t1,t2] for t1 in thr1 for t2 in thr2], # Remember the keys of this dictionary should be same as the methods dictionary.\n",
    "}\n",
    "\n",
    "print((my_parameters['Method 1']))"
   ]
  },
  {
   "cell_type": "markdown",
   "metadata": {},
   "source": [
    "So now we have four combinations of the input parameters for the method `another_method()`, which will be passed one by one to the method, so that all the experiments will be carried out for each of these combinations. Lets set the benchmark again and run a test using this new configuration of methods and parameters. After that, use the the `Benchmark` class method `getResults()` to obtain a table with the results."
   ]
  },
  {
   "cell_type": "code",
   "execution_count": 7,
   "metadata": {},
   "outputs": [
    {
     "name": "stdout",
     "output_type": "stream",
     "text": [
      "Running benchmark...\n",
      "The test has finished.\n"
     ]
    },
    {
     "data": {
      "text/html": [
       "<div>\n",
       "<style scoped>\n",
       "    .dataframe tbody tr th:only-of-type {\n",
       "        vertical-align: middle;\n",
       "    }\n",
       "\n",
       "    .dataframe tbody tr th {\n",
       "        vertical-align: top;\n",
       "    }\n",
       "\n",
       "    .dataframe thead th {\n",
       "        text-align: right;\n",
       "    }\n",
       "</style>\n",
       "<table border=\"1\" class=\"dataframe\">\n",
       "  <thead>\n",
       "    <tr style=\"text-align: right;\">\n",
       "      <th></th>\n",
       "      <th>Method</th>\n",
       "      <th>Parameter</th>\n",
       "      <th>Signal_id</th>\n",
       "      <th>Repetition</th>\n",
       "      <th>40</th>\n",
       "      <th>50</th>\n",
       "    </tr>\n",
       "  </thead>\n",
       "  <tbody>\n",
       "    <tr>\n",
       "      <th>3</th>\n",
       "      <td>Method 1</td>\n",
       "      <td>Params0</td>\n",
       "      <td>cosChirp</td>\n",
       "      <td>0</td>\n",
       "      <td>7.650968</td>\n",
       "      <td>7.840755</td>\n",
       "    </tr>\n",
       "    <tr>\n",
       "      <th>4</th>\n",
       "      <td>Method 1</td>\n",
       "      <td>Params0</td>\n",
       "      <td>cosChirp</td>\n",
       "      <td>1</td>\n",
       "      <td>7.839270</td>\n",
       "      <td>7.840752</td>\n",
       "    </tr>\n",
       "    <tr>\n",
       "      <th>5</th>\n",
       "      <td>Method 1</td>\n",
       "      <td>Params0</td>\n",
       "      <td>cosChirp</td>\n",
       "      <td>2</td>\n",
       "      <td>7.834547</td>\n",
       "      <td>7.840756</td>\n",
       "    </tr>\n",
       "    <tr>\n",
       "      <th>6</th>\n",
       "      <td>Method 1</td>\n",
       "      <td>Params0</td>\n",
       "      <td>crossedLinearChirps</td>\n",
       "      <td>0</td>\n",
       "      <td>6.765070</td>\n",
       "      <td>6.667951</td>\n",
       "    </tr>\n",
       "    <tr>\n",
       "      <th>7</th>\n",
       "      <td>Method 1</td>\n",
       "      <td>Params0</td>\n",
       "      <td>crossedLinearChirps</td>\n",
       "      <td>1</td>\n",
       "      <td>6.666834</td>\n",
       "      <td>6.766290</td>\n",
       "    </tr>\n",
       "    <tr>\n",
       "      <th>...</th>\n",
       "      <td>...</td>\n",
       "      <td>...</td>\n",
       "      <td>...</td>\n",
       "      <td>...</td>\n",
       "      <td>...</td>\n",
       "      <td>...</td>\n",
       "    </tr>\n",
       "    <tr>\n",
       "      <th>70</th>\n",
       "      <td>Method 1</td>\n",
       "      <td>Params3</td>\n",
       "      <td>multiComponentHarmonic</td>\n",
       "      <td>1</td>\n",
       "      <td>4.376974</td>\n",
       "      <td>4.377947</td>\n",
       "    </tr>\n",
       "    <tr>\n",
       "      <th>71</th>\n",
       "      <td>Method 1</td>\n",
       "      <td>Params3</td>\n",
       "      <td>multiComponentHarmonic</td>\n",
       "      <td>2</td>\n",
       "      <td>4.377003</td>\n",
       "      <td>4.377944</td>\n",
       "    </tr>\n",
       "    <tr>\n",
       "      <th>66</th>\n",
       "      <td>Method 1</td>\n",
       "      <td>Params3</td>\n",
       "      <td>sharpAttackCos</td>\n",
       "      <td>0</td>\n",
       "      <td>9.296257</td>\n",
       "      <td>9.272040</td>\n",
       "    </tr>\n",
       "    <tr>\n",
       "      <th>67</th>\n",
       "      <td>Method 1</td>\n",
       "      <td>Params3</td>\n",
       "      <td>sharpAttackCos</td>\n",
       "      <td>1</td>\n",
       "      <td>9.295279</td>\n",
       "      <td>9.271967</td>\n",
       "    </tr>\n",
       "    <tr>\n",
       "      <th>68</th>\n",
       "      <td>Method 1</td>\n",
       "      <td>Params3</td>\n",
       "      <td>sharpAttackCos</td>\n",
       "      <td>2</td>\n",
       "      <td>9.295394</td>\n",
       "      <td>9.271998</td>\n",
       "    </tr>\n",
       "  </tbody>\n",
       "</table>\n",
       "<p>72 rows × 6 columns</p>\n",
       "</div>"
      ],
      "text/plain": [
       "      Method Parameter               Signal_id  Repetition        40        50\n",
       "3   Method 1   Params0                cosChirp           0  7.650968  7.840755\n",
       "4   Method 1   Params0                cosChirp           1  7.839270  7.840752\n",
       "5   Method 1   Params0                cosChirp           2  7.834547  7.840756\n",
       "6   Method 1   Params0     crossedLinearChirps           0  6.765070  6.667951\n",
       "7   Method 1   Params0     crossedLinearChirps           1  6.666834  6.766290\n",
       "..       ...       ...                     ...         ...       ...       ...\n",
       "70  Method 1   Params3  multiComponentHarmonic           1  4.376974  4.377947\n",
       "71  Method 1   Params3  multiComponentHarmonic           2  4.377003  4.377944\n",
       "66  Method 1   Params3          sharpAttackCos           0  9.296257  9.272040\n",
       "67  Method 1   Params3          sharpAttackCos           1  9.295279  9.271967\n",
       "68  Method 1   Params3          sharpAttackCos           2  9.295394  9.271998\n",
       "\n",
       "[72 rows x 6 columns]"
      ]
     },
     "execution_count": 7,
     "metadata": {},
     "output_type": "execute_result"
    }
   ],
   "source": [
    "my_benchmark = Benchmark(task = 'denoising', methods = my_methods, N = 256, parameters = my_parameters, SNRin = [40,50], repetitions = 3)\n",
    "my_results = my_benchmark.runTest() # Run the test. my_results is a dictionary with the results for each of the variables of the simulation.\n",
    "df = my_benchmark.getResults() # This formats the results on a DataFrame\n",
    "df.shape\n",
    "df"
   ]
  },
  {
   "cell_type": "markdown",
   "metadata": {},
   "source": [
    "As we can see, the experiments has been repited for every combinations of parameters, listed in the second column of the table as `Param#` where `#` is the number corresponding to one group of input parameters."
   ]
  }
 ],
 "metadata": {
  "interpreter": {
   "hash": "916dbcbb3f70747c44a77c7bcd40155683ae19c65e1c03b4aa3499c5328201f1"
  },
  "kernelspec": {
   "display_name": "Python 3.8.10 64-bit",
   "language": "python",
   "name": "python3"
  },
  "language_info": {
   "codemirror_mode": {
    "name": "ipython",
    "version": 3
   },
   "file_extension": ".py",
   "mimetype": "text/x-python",
   "name": "python",
   "nbconvert_exporter": "python",
   "pygments_lexer": "ipython3",
   "version": "3.8.10"
  },
  "orig_nbformat": 4
 },
 "nbformat": 4,
 "nbformat_minor": 2
}

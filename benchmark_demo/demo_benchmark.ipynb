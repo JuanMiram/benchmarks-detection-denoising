{
 "cells": [
  {
   "cell_type": "markdown",
   "metadata": {},
   "source": [
    "# Setting up the benchmark\n",
    "In order to compare different methods with possibly different parameters, we need to set up a few things before running the benchmark. A `Benchmark` object receives some input parameters to configure the test:\n",
    "- A task: This could be `denoising` or `detecting`. The first one compare the quality reconstruction factor at the output of the method, whereas the second simply consist in detecting wheter a signal is present or not.\n",
    "- A dictionary of methods: Each entry of this dictionary should correspond to the function that implements each of the desired methods.\n",
    "- A dictionary of parameters: Each entry of this dictionary correspond to an array of tuples to pass as input parameters to each method. In order to know which parameters should be passed to each methods, the keys of this dictionary should be those corresponding to the individual methods in the corresponding dictionary.\n",
    "- SNR vector: A list or tuple of values of SNR to test.\n",
    "- A number of repetitions."
   ]
  },
  {
   "cell_type": "markdown",
   "metadata": {},
   "source": [
    "## A dummy test \n",
    "First let's define a dummy method for testing. Methods should receive an `MxN` array of noisy signals, where `M` is the number of signals, and `N` is the number of time samples Additionally, it should receive a second parameter `params` to test different combinations of parameters of the method. The shape of the output depends on the task (denoising or detecting). After this, let's create a dictionary of methods to pass the `Benchmark` object later."
   ]
  },
  {
   "cell_type": "code",
   "execution_count": null,
   "metadata": {},
   "outputs": [],
   "source": [
    "import numpy as np\n",
    "from numpy import pi as pi\n",
    "import pandas as pd\n",
    "from benchmark import Benchmark\n",
    "\n",
    "\n",
    "def a_method(noisy_signals, params):\n",
    "    # If additional input parameters are needed, they can be passed in a tuple using params and then parsed.\n",
    "    results = noisy_signals \n",
    "    return results\n",
    "\n",
    "# Create a dictionary of the methods to test.\n",
    "my_methods = {\n",
    "    'Method 1': a_method, \n",
    "    'Method 2': a_method\n",
    "    }"
   ]
  },
  {
   "cell_type": "markdown",
   "metadata": {},
   "source": [
    "Create a dictionary of the parameters to pass to each method. The parameters should be given in a tuple of tuples, so that each internal tuple is passed as a single additional parameter to the method (this latter should implement how to parse the parameters from this tuple). The keys of this dictionary should be the same as those of the methods dictionary."
   ]
  },
  {
   "cell_type": "code",
   "execution_count": null,
   "metadata": {},
   "outputs": [],
   "source": [
    "my_parameters = {\n",
    "    'Method 1': [[3, 4, True, 'all'],[2, 1, False, 'one']], # Each tuple is passed as a parameter that the method should parse internally.\n",
    "    'Method 2': [[3, 4, True, 'all'],[2, 1, False, 'one']]\n",
    "    }"
   ]
  },
  {
   "cell_type": "markdown",
   "metadata": {},
   "source": [
    "Now we are ready to instantiate a `Benchmark` object, run a test using the proposed methods and parameters. The benchmark constructor receives a name of a task (which defines the performance function for the test), a dictionary of the methods to test, the desired length of the signals used in the simulation, a dictionary of different parameters that should be passed to the methods, an array with different values of SNR to test, and the number of repetitions that should be used for each test."
   ]
  },
  {
   "cell_type": "code",
   "execution_count": null,
   "metadata": {},
   "outputs": [],
   "source": [
    "my_benchmark = Benchmark(task = 'denoising', methods = my_methods, N = 256, parameters = my_parameters, SNRin = [40,50], repetitions = 3)\n",
    "my_results = my_benchmark.runTest() # Run the test. my_results is a dictionary with the results for each of the variables of the simulation."
   ]
  },
  {
   "cell_type": "markdown",
   "metadata": {},
   "source": [
    "Now we have the results of the test in `my_results`. In order to get the results in a human-readable way using a DataFrame, and also for further analysis and reproducibility, we could use the method `getResults()`."
   ]
  },
  {
   "cell_type": "code",
   "execution_count": null,
   "metadata": {},
   "outputs": [],
   "source": [
    "df = my_benchmark.getResults() # This formats the results on a DataFrame\n",
    "df.head()"
   ]
  },
  {
   "cell_type": "markdown",
   "metadata": {},
   "source": [
    "## Passing different parameters to the methods.\n",
    "It is common that a method depend on certain parameters (thresholds, multiplicative factors, etc). We can pass a number of parameters to our method provided it parses them internally. For instance, let's consider a function that depends on two thresholds:"
   ]
  },
  {
   "cell_type": "code",
   "execution_count": null,
   "metadata": {},
   "outputs": [],
   "source": [
    "def a_function(signal, thr1, thr2):\n",
    "    return signal[signal>thr1]"
   ]
  },
  {
   "cell_type": "markdown",
   "metadata": {},
   "source": [
    "Now lets create the method and the dictionary for our benchmark. Notice that the method function should parse the parameters in `params`. Then we can define the diferent combinations of parameters to test using another dictionary:"
   ]
  },
  {
   "cell_type": "code",
   "execution_count": null,
   "metadata": {},
   "outputs": [],
   "source": [
    "def another_method(noisy_signals,params):\n",
    "    output_signals = np.zeros(noisy_signals.shape)\n",
    "    # The method should parse the parameters accordingly\n",
    "    thr1 = params[0]\n",
    "    thr2 = params[1]\n",
    "    output = [a_function(signal, thr1, thr2) for signal in noisy_signals]\n",
    "    return output\n",
    "        \n",
    "\n",
    "# Create a dictionary of the methods to test.\n",
    "my_methods = {\n",
    "    'Method 1': another_method, \n",
    "    }\n",
    "\n",
    "\n",
    "# Create a dictionary for the different values of the thresholds to test:\n",
    "thr1 = np.linspace(0.1,0.5,0.1)\n",
    "thr2 = np.linspace(4,6,0.5)\n",
    "my_parameters = {\n",
    "    'Method 1': \n",
    "}"
   ]
  }
 ],
 "metadata": {
  "interpreter": {
   "hash": "916dbcbb3f70747c44a77c7bcd40155683ae19c65e1c03b4aa3499c5328201f1"
  },
  "kernelspec": {
   "display_name": "Python 3.8.10 64-bit",
   "language": "python",
   "name": "python3"
  },
  "language_info": {
   "codemirror_mode": {
    "name": "ipython",
    "version": 3
   },
   "file_extension": ".py",
   "mimetype": "text/x-python",
   "name": "python",
   "nbconvert_exporter": "python",
   "pygments_lexer": "ipython3",
   "version": "3.8.10"
  },
  "orig_nbformat": 4
 },
 "nbformat": 4,
 "nbformat_minor": 2
}

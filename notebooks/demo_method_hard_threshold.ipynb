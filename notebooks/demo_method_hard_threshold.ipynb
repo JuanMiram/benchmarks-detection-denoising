{
 "cells": [
  {
   "cell_type": "markdown",
   "metadata": {},
   "source": [
    "# Hard-thresholding filtering"
   ]
  },
  {
   "cell_type": "code",
   "execution_count": null,
   "metadata": {},
   "outputs": [],
   "source": [
    "import numpy as np\n",
    "from numpy import pi as pi\n",
    "import scipy.signal as sg \n",
    "import seaborn as sns\n",
    "import matplotlib.pyplot as plt\n",
    "import cmocean\n",
    "from benchmark_demo.utilstf import *\n",
    "from benchmark_demo.SignalBank import SignalBank\n",
    "# from methods.method_delaunay_triangulation import instantiate_method\n",
    "from methods.method_hard_threshold import hard_thresholding"
   ]
  },
  {
   "cell_type": "code",
   "execution_count": null,
   "metadata": {},
   "outputs": [],
   "source": [
    "# A test for new methods\n",
    "np.random.seed(0) \n",
    "\n",
    "# signal parameters\n",
    "SNRin = 10\n",
    "N = 2**9\n",
    "\n",
    "sbank = SignalBank(N=N)\n",
    "# s = sbank.signal_cos_chirp()\n",
    "# s = sbank.signal_mc_multi_linear()\n",
    "s = sbank.signal_mc_cos_plus_tone()\n",
    "\n",
    "# s = sbank.signal_mc_modulated_tones()\n",
    "# s = sbank.signal_mc_synthetic_mixture()\n",
    "# s = sbank.signal_mc_synthetic_mixture_2()\n",
    "# s = sbank.signal_mc_impulses()"
   ]
  },
  {
   "cell_type": "code",
   "execution_count": null,
   "metadata": {},
   "outputs": [],
   "source": [
    "signal = add_snr(s,SNRin)\n",
    "Nfft = N\n",
    "g,_ = get_round_window(Nfft)\n",
    "S, stft, stft_padded, Npad = get_spectrogram(signal, window = g)\n",
    "output_dict = hard_thresholding(signal, coeff=3, dict_output=True)\n",
    "signals_output, mask = (i for i in output_dict.values())\n",
    "print(10*np.log10((np.sum(s**2))/(np.sum((s-signals_output)**2))))"
   ]
  },
  {
   "cell_type": "code",
   "execution_count": null,
   "metadata": {},
   "outputs": [],
   "source": [
    "print(S.shape)\n",
    "fig, ax = plt.subplots(1,2,figsize = (10,5))\n",
    "ax[0].imshow(np.log10(S), origin='lower', cmap=cmocean.cm.deep)\n",
    "ax[1].imshow(mask, origin='lower')\n",
    "plt.show()\n"
   ]
  },
  {
   "cell_type": "code",
   "execution_count": null,
   "metadata": {
    "vscode": {
     "languageId": "plaintext"
    }
   },
   "outputs": [],
   "source": []
  }
 ],
 "metadata": {
  "interpreter": {
   "hash": "3613dbbd010f4343c6abbc68244db105f8e3237bb6b16a52d1c69cd264c26462"
  },
  "kernelspec": {
   "display_name": "Python 3.9.8 ('.venv': poetry)",
   "language": "python",
   "name": "python3"
  },
  "language_info": {
   "codemirror_mode": {
    "name": "ipython",
    "version": 3
   },
   "file_extension": ".py",
   "mimetype": "text/x-python",
   "name": "python",
   "nbconvert_exporter": "python",
   "pygments_lexer": "ipython3",
   "version": "3.9.8"
  },
  "orig_nbformat": 4
 },
 "nbformat": 4,
 "nbformat_minor": 2
}
